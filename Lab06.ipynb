{
 "cells": [
  {
   "cell_type": "code",
   "execution_count": 14,
   "metadata": {},
   "outputs": [],
   "source": [
    "using JuMP, GLPK, Clp, Cbc"
   ]
  },
  {
   "cell_type": "markdown",
   "metadata": {},
   "source": [
    "### Inciso 2 - Modelo de Producción, Períodos múltiples"
   ]
  },
  {
   "cell_type": "code",
   "execution_count": null,
   "metadata": {},
   "outputs": [],
   "source": []
  },
  {
   "cell_type": "markdown",
   "metadata": {},
   "source": [
    "### 🕰️ Inciso 3 - Modelo de asignación de horarios"
   ]
  },
  {
   "cell_type": "code",
   "execution_count": 22,
   "metadata": {},
   "outputs": [
    {
     "data": {
      "text/latex": [
       "$$ x5 + x6 \\geq 4 $$"
      ],
      "text/plain": [
       "x5 + x6 >= 4"
      ]
     },
     "metadata": {},
     "output_type": "display_data"
    }
   ],
   "source": [
    "\n",
    "model = Model(GLPK.Optimizer)\n",
    "\n",
    "# x1, x2, x3, x4, x5, x6 (cantidad de buses que comienzan en cada turno)\n",
    "@variable(model, x1 >= 0, Int)\n",
    "@variable(model, x2 >= 0, Int)\n",
    "@variable(model, x3 >= 0, Int)\n",
    "@variable(model, x4 >= 0, Int)\n",
    "@variable(model, x5 >= 0, Int)\n",
    "@variable(model, x6 >= 0, Int)\n",
    "\n",
    "@objective(model, Min, x1 + x2 + x3 + x4 + x5 + x6)\n",
    "\n",
    "@constraint(model, x1 + x6 >= 4)   # 12:00 AM - 4:00 AM\n",
    "@constraint(model, x1 + x2 + x6 >= 8)   # 4:00 AM - 8:00 AM\n",
    "@constraint(model, x1 + x2 + x3 >= 10)  # 8:00 AM - 12:00 PM\n",
    "@constraint(model, x3 + x4 >= 12)  # 12:00 PM - 4:00 PM\n",
    "@constraint(model, x4 + x5 >= 7)   # 4:00 PM - 8:00 PM\n",
    "@constraint(model, x5 + x6 >= 4)   # 8:00 PM - 12:00 AM\n"
   ]
  },
  {
   "cell_type": "code",
   "execution_count": 16,
   "metadata": {},
   "outputs": [
    {
     "data": {
      "text/plain": [
       "A JuMP Model\n",
       "├ solver: GLPK\n",
       "├ objective_sense: MIN_SENSE\n",
       "│ └ objective_function_type: AffExpr\n",
       "├ num_variables: 6\n",
       "├ num_constraints: 18\n",
       "│ ├ AffExpr in MOI.GreaterThan{Float64}: 6\n",
       "│ ├ VariableRef in MOI.GreaterThan{Float64}: 6\n",
       "│ └ VariableRef in MOI.Integer: 6\n",
       "└ Names registered in the model\n",
       "  └ :x1, :x2, :x3, :x4, :x5, :x6"
      ]
     },
     "metadata": {},
     "output_type": "display_data"
    }
   ],
   "source": [
    "model"
   ]
  },
  {
   "cell_type": "code",
   "execution_count": 18,
   "metadata": {},
   "outputs": [
    {
     "name": "stdout",
     "output_type": "stream",
     "text": [
      "Estado de la solución: OPTIMAL\n",
      "x1 = 0.0\n",
      "x2 = 4.0\n",
      "x3 = 6.0\n",
      "x4 = 7.0\n",
      "x5 = 0.0\n",
      "x6 = 4.0\n",
      "Cantidad total de autobuses = 21.0\n"
     ]
    }
   ],
   "source": [
    "optimize!(model)\n",
    "\n",
    "# Imprimir resultados\n",
    "println(\"Estado de la solución: \", termination_status(model))\n",
    "println(\"x1 = \", value(x1))\n",
    "println(\"x2 = \", value(x2))\n",
    "println(\"x3 = \", value(x3))\n",
    "println(\"x4 = \", value(x4))\n",
    "println(\"x5 = \", value(x5))\n",
    "println(\"x6 = \", value(x6))\n",
    "println(\"Cantidad total de autobuses = \", objective_value(model))"
   ]
  },
  {
   "cell_type": "markdown",
   "metadata": {},
   "source": [
    "### 🏘️ Inciso 4 - Modelo de renovación urbana"
   ]
  },
  {
   "cell_type": "code",
   "execution_count": 19,
   "metadata": {},
   "outputs": [
    {
     "data": {
      "text/latex": [
       "$$ 50000 x1 + 70000 x2 + 130000 x3 + 160000 x4 \\leq 15000000 $$"
      ],
      "text/plain": [
       "50000 x1 + 70000 x2 + 130000 x3 + 160000 x4 <= 15000000"
      ]
     },
     "metadata": {},
     "output_type": "display_data"
    }
   ],
   "source": [
    "model = Model(Clp.Optimizer)\n",
    "\n",
    "@variable(model, x1 >= 0)  # Sencillas\n",
    "@variable(model, x2 >= 0)  # Dobles\n",
    "@variable(model, x3 >= 0)  # Triples\n",
    "@variable(model, x4 >= 0)  # Cuádruples\n",
    "\n",
    "# Maximizar los impuestos\n",
    "@objective(model, Max, 1000*x1 + 1900*x2 + 2700*x3 + 3400*x4)\n",
    "\n",
    "# Restricción del área disponible\n",
    "@constraint(model, 0.18*x1 + 0.28*x2 + 0.4*x3 + 0.5*x4 <= 63.75)\n",
    "\n",
    "# Restricción de proporción: Triples y cuádruples >= 25% del total\n",
    "@constraint(model, x3 + x4 >= 0.25 * (x1 + x2 + x3 + x4))\n",
    "\n",
    "# Restricción de proporción: Sencillas >= 10% del total\n",
    "@constraint(model, x1 >= 0.1 * (x1 + x2 + x3 + x4))\n",
    "\n",
    "# Restricción del financiamiento\n",
    "@constraint(model, 50000*x1 + 70000*x2 + 130000*x3 + 160000*x4 <= 15000000)\n"
   ]
  },
  {
   "cell_type": "code",
   "execution_count": 20,
   "metadata": {},
   "outputs": [
    {
     "data": {
      "text/plain": [
       "A JuMP Model\n",
       "├ solver: Clp\n",
       "├ objective_sense: MAX_SENSE\n",
       "│ └ objective_function_type: AffExpr\n",
       "├ num_variables: 4\n",
       "├ num_constraints: 8\n",
       "│ ├ AffExpr in MOI.GreaterThan{Float64}: 2\n",
       "│ ├ AffExpr in MOI.LessThan{Float64}: 2\n",
       "│ └ VariableRef in MOI.GreaterThan{Float64}: 4\n",
       "└ Names registered in the model\n",
       "  └ :x1, :x2, :x3, :x4"
      ]
     },
     "metadata": {},
     "output_type": "display_data"
    }
   ],
   "source": [
    "model"
   ]
  },
  {
   "cell_type": "code",
   "execution_count": 21,
   "metadata": {},
   "outputs": [
    {
     "name": "stdout",
     "output_type": "stream",
     "text": [
      "Estado de la solución: OPTIMAL\n",
      "x1 (sencillas): 18.072289156626503\n",
      "x2 (dobles): 117.46987951807228\n",
      "x3 (triples): 45.18072289156626\n",
      "x4 (cuádruples): 0.0\n",
      "Valor objetivo: 363253.01204819273\n",
      "\n",
      "Coin0506I Presolve 4 (0) rows, 4 (0) columns and 16 (0) elements\n",
      "Clp0006I 0  Obj 0 Dual inf 10492.857 (4)\n",
      "Clp0006I 5  Obj 363253.01\n",
      "Clp0000I Optimal - objective value 363253.01\n",
      "Clp0032I Optimal objective 363253.012 - 5 iterations time 0.002\n"
     ]
    }
   ],
   "source": [
    "# Resolver el problema\n",
    "optimize!(model)\n",
    "\n",
    "# Mostrar resultados\n",
    "println(\"Estado de la solución: \", termination_status(model))\n",
    "println(\"x1 (sencillas): \", value(x1))\n",
    "println(\"x2 (dobles): \", value(x2))\n",
    "println(\"x3 (triples): \", value(x3))\n",
    "println(\"x4 (cuádruples): \", value(x4))\n",
    "println(\"Valor objetivo: \", objective_value(model), \"\\n\")"
   ]
  },
  {
   "cell_type": "markdown",
   "metadata": {},
   "source": [
    "### 🔢 Enteros"
   ]
  },
  {
   "cell_type": "code",
   "execution_count": 23,
   "metadata": {},
   "outputs": [
    {
     "data": {
      "text/latex": [
       "$$ 50000 x1 + 70000 x2 + 130000 x3 + 160000 x4 \\leq 15000000 $$"
      ],
      "text/plain": [
       "50000 x1 + 70000 x2 + 130000 x3 + 160000 x4 <= 15000000"
      ]
     },
     "metadata": {},
     "output_type": "display_data"
    }
   ],
   "source": [
    "model = Model(Cbc.Optimizer)\n",
    "\n",
    "@variable(model, x1 >= 0, Int)  # Sencillas\n",
    "@variable(model, x2 >= 0, Int)  # Dobles\n",
    "@variable(model, x3 >= 0, Int)  # Triples\n",
    "@variable(model, x4 >= 0, Int)  # Cuádruples\n",
    "\n",
    "# Maximizar los impuestos\n",
    "@objective(model, Max, 1000*x1 + 1900*x2 + 2700*x3 + 3400*x4)\n",
    "\n",
    "# Restricción del área disponible\n",
    "@constraint(model, 0.18*x1 + 0.28*x2 + 0.4*x3 + 0.5*x4 <= 63.75)\n",
    "\n",
    "# Restricción de proporción: Triples y cuádruples >= 25% del total\n",
    "@constraint(model, x3 + x4 >= 0.25 * (x1 + x2 + x3 + x4))\n",
    "\n",
    "# Restricción de proporción: Sencillas >= 10% del total\n",
    "@constraint(model, x1 >= 0.1 * (x1 + x2 + x3 + x4))\n",
    "\n",
    "# Restricción del financiamiento\n",
    "@constraint(model, 50000*x1 + 70000*x2 + 130000*x3 + 160000*x4 <= 15000000)"
   ]
  },
  {
   "cell_type": "code",
   "execution_count": 24,
   "metadata": {},
   "outputs": [
    {
     "data": {
      "text/plain": [
       "A JuMP Model\n",
       "├ solver: COIN Branch-and-Cut (Cbc)\n",
       "├ objective_sense: MAX_SENSE\n",
       "│ └ objective_function_type: AffExpr\n",
       "├ num_variables: 4\n",
       "├ num_constraints: 12\n",
       "│ ├ AffExpr in MOI.GreaterThan{Float64}: 2\n",
       "│ ├ AffExpr in MOI.LessThan{Float64}: 2\n",
       "│ ├ VariableRef in MOI.GreaterThan{Float64}: 4\n",
       "│ └ VariableRef in MOI.Integer: 4\n",
       "└ Names registered in the model\n",
       "  └ :x1, :x2, :x3, :x4"
      ]
     },
     "metadata": {},
     "output_type": "display_data"
    }
   ],
   "source": [
    "model"
   ]
  },
  {
   "cell_type": "code",
   "execution_count": 25,
   "metadata": {},
   "outputs": [
    {
     "name": "stdout",
     "output_type": "stream",
     "text": [
      "Estado de la solución: OPTIMAL\n",
      "x1 (sencillas): 18.0\n",
      "x2 (dobles): 117.0\n",
      "x3 (triples): 43.0\n",
      "x4 (cuádruples): 2.0\n",
      "Valor objetivo: 363200.0\n",
      "\n",
      "Welcome to the CBC MILP Solver \n",
      "Version: 2.10.5 \n",
      "Build Date: Jan  1 1970 \n",
      "\n",
      "command line - Cbc_C_Interface -solve -quit (default strategy 1)\n",
      "Continuous objective value is 363253 - 0.00 seconds\n",
      "Cgl0004I processed model has 4 rows, 4 columns (4 integer (0 of which binary)) and 16 elements\n",
      "Cutoff increment increased from 1e-05 to 99.9999\n",
      "Cbc0012I Integer solution of -363200 found by DiveCoefficient after 0 iterations and 0 nodes (0.00 seconds)\n",
      "Cbc0001I Search completed - best objective -363200, took 0 iterations and 0 nodes (0.00 seconds)\n",
      "Cbc0035I Maximum depth 0, 0 variables fixed on reduced cost\n",
      "Cuts at root node changed objective from -363253 to -363253\n",
      "Probing was tried 0 times and created 0 cuts of which 0 were active after adding rounds of cuts (0.000 seconds)\n",
      "Gomory was tried 0 times and created 0 cuts of which 0 were active after adding rounds of cuts (0.000 seconds)\n",
      "Knapsack was tried 0 times and created 0 cuts of which 0 were active after adding rounds of cuts (0.000 seconds)\n",
      "Clique was tried 0 times and created 0 cuts of which 0 were active after adding rounds of cuts (0.000 seconds)\n",
      "MixedIntegerRounding2 was tried 0 times and created 0 cuts of which 0 were active after adding rounds of cuts (0.000 seconds)\n",
      "FlowCover was tried 0 times and created 0 cuts of which 0 were active after adding rounds of cuts (0.000 seconds)\n",
      "TwoMirCuts was tried 0 times and created 0 cuts of which 0 were active after adding rounds of cuts (0.000 seconds)\n",
      "ZeroHalf was tried 0 times and created 0 cuts of which 0 were active after adding rounds of cuts (0.000 seconds)\n",
      "\n",
      "Result - Optimal solution found\n",
      "\n",
      "Objective value:                363200.00000000\n",
      "Enumerated nodes:               0\n",
      "Total iterations:               0\n",
      "Time (CPU seconds):             0.00\n",
      "Time (Wallclock seconds):       0.00\n",
      "\n",
      "Total time (CPU seconds):       0.00   (Wallclock seconds):       0.00\n",
      "\n"
     ]
    }
   ],
   "source": [
    "# Resolver el problema\n",
    "optimize!(model)\n",
    "\n",
    "# Mostrar resultados\n",
    "println(\"Estado de la solución: \", termination_status(model))\n",
    "println(\"x1 (sencillas): \", round(value(x1)))\n",
    "println(\"x2 (dobles): \", round(value(x2)))\n",
    "println(\"x3 (triples): \", round(value(x3)))\n",
    "println(\"x4 (cuádruples): \", round(value(x4)))\n",
    "println(\"Valor objetivo: \", objective_value(model), \"\\n\")"
   ]
  }
 ],
 "metadata": {
  "kernelspec": {
   "display_name": "Julia 1.10.5",
   "language": "julia",
   "name": "julia-1.10"
  },
  "language_info": {
   "file_extension": ".jl",
   "mimetype": "application/julia",
   "name": "julia",
   "version": "1.10.5"
  }
 },
 "nbformat": 4,
 "nbformat_minor": 2
}
